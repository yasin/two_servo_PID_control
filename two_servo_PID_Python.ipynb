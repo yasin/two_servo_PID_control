{
 "cells": [
  {
   "cell_type": "code",
   "execution_count": 1,
   "metadata": {},
   "outputs": [],
   "source": [
    "import numpy as np\n",
    "import os,time,cv2,serial"
   ]
  },
  {
   "cell_type": "code",
   "execution_count": 6,
   "metadata": {},
   "outputs": [
    {
     "data": {
      "text/plain": [
       "['.idea',\n",
       " '.ipynb_checkpoints',\n",
       " 'dogrusal modeller',\n",
       " 'dogrusal olmayan modeller',\n",
       " 'Improved_CIFAR_TODO.ipynb',\n",
       " 'keras',\n",
       " 'nörel_network_teorisi',\n",
       " 'original (2).csv',\n",
       " 'original (3).csv',\n",
       " 'PID_control.ipynb',\n",
       " 'pythorc ogrenme',\n",
       " 'ses_analizi',\n",
       " 'SINIF MODELLEMELERİ',\n",
       " 'sınırlayıcı kutu tespiti',\n",
       " 'tensorflow ornekler',\n",
       " 'untitled',\n",
       " 'Untitled.ipynb',\n",
       " 'yapay_zekada_etiketleme',\n",
       " 'yolo']"
      ]
     },
     "execution_count": 6,
     "metadata": {},
     "output_type": "execute_result"
    }
   ],
   "source": [
    "os.listdir()"
   ]
  },
  {
   "cell_type": "code",
   "execution_count": 2,
   "metadata": {},
   "outputs": [],
   "source": [
    "arduino = serial.Serial(port='COM4', baudrate=9600)"
   ]
  },
  {
   "cell_type": "code",
   "execution_count": 3,
   "metadata": {},
   "outputs": [],
   "source": [
    "def ardunio_data():\n",
    "        data = arduino.readline()\n",
    "        return data.decode(\"utf-8\")[:-2].split(\",\")"
   ]
  },
  {
   "cell_type": "code",
   "execution_count": 5,
   "metadata": {},
   "outputs": [],
   "source": [
    "\n",
    "center=(int(500/2),int(500/2))\n",
    "target_line=(0,0,255)\n",
    "loss_line=(0,255,0)\n",
    "\n",
    "a=0\n",
    "while True:\n",
    "    fram=np.ones((500,500,3))\n",
    "    fram[:,:,:]=0\n",
    "    line=np.ones((500,500,3))\n",
    "    line[:,:,:]=0\n",
    "    \n",
    "    \n",
    "    cv2.line(line,\n",
    "             (center[0]-200,center[1]),\n",
    "              (center[0]+200,center[1]),\n",
    "              loss_line,5)\n",
    "                 \n",
    "    \n",
    "    \n",
    "   \n",
    "    \n",
    "    cv2.line(fram,\n",
    "             (center[0]-200,center[1]),\n",
    "              (center[0]+200,center[1]),\n",
    "              target_line,5)\n",
    "    \n",
    "    e,x,y,z=ardunio_data()\n",
    "    M = cv2.getRotationMatrix2D(center,-int(y), 1.0)\n",
    "    line = cv2.warpAffine(line, M, (500,500))\n",
    "    fram=fram+line\n",
    "    \n",
    "    \n",
    "\n",
    "    cv2.putText(fram,\"aci : \"+str(y),(30,30),cv2.FONT_HERSHEY_SIMPLEX,1,loss_line,2)\n",
    "    \n",
    "    cv2.imshow(\"şshjldfhş\",fram)\n",
    "    \n",
    "    \n",
    "    a-=1\n",
    "    if cv2.waitKey(1) & 0xFF==ord(\"q\"):\n",
    "        break\n",
    "cv2.destroyAllWindows()\n",
    "\n"
   ]
  },
  {
   "cell_type": "code",
   "execution_count": null,
   "metadata": {},
   "outputs": [],
   "source": []
  }
 ],
 "metadata": {
  "kernelspec": {
   "display_name": "Python 3",
   "language": "python",
   "name": "python3"
  },
  "language_info": {
   "codemirror_mode": {
    "name": "ipython",
    "version": 3
   },
   "file_extension": ".py",
   "mimetype": "text/x-python",
   "name": "python",
   "nbconvert_exporter": "python",
   "pygments_lexer": "ipython3",
   "version": "3.8.2"
  }
 },
 "nbformat": 4,
 "nbformat_minor": 4
}
